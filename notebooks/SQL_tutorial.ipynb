{
 "cells": [
  {
   "cell_type": "markdown",
   "metadata": {},
   "source": [
    "# SQL Tutorial"
   ]
  },
  {
   "cell_type": "markdown",
   "metadata": {},
   "source": [
    "## Databases - key concepts & terminology"
   ]
  },
  {
   "cell_type": "markdown",
   "metadata": {},
   "source": [
    "* efficient\n",
    "* reliable\n",
    "* convenient\n",
    "* secure\n",
    "* multi-user\n",
    "* storage & access to huge amount of persisted data"
   ]
  },
  {
   "cell_type": "markdown",
   "metadata": {},
   "source": [
    "## Convenience\n",
    "* tables/rows/columns - easy for humans to understand\n",
    "* SQL - structured query language\n",
    "  * Declarative - I tell the DBMS what I want, it will find out how to do it\n",
    "  * SQL DDL - schema, layout of tables, columns, links between them\n",
    "  * SQL DML - instances, rows, data\n",
    "* Transactions - ACID"
   ]
  },
  {
   "cell_type": "markdown",
   "metadata": {},
   "source": [
    "## Architecture\n",
    "* client - server\n",
    "* DBMS\n",
    "* clients\n",
    "  * generic - psql, DataGrip, PgAdmin, PhPMyAdmin, ...\n",
    "  * specific\n"
   ]
  },
  {
   "cell_type": "markdown",
   "metadata": {},
   "source": [
    "[Example: Loading CSV into database](csv_example.ipynb)"
   ]
  },
  {
   "cell_type": "markdown",
   "metadata": {},
   "source": [
    "## SQL"
   ]
  },
  {
   "cell_type": "markdown",
   "metadata": {
    "collapsed": true
   },
   "source": [
    "* [SQL SELECT statement](../postgres-SELECT.sql)\n",
    "* [SQL hierarchy - recursive queries](../postgres-hierarchy.sql)\n",
    "* [SQL window functions](../postgres-window_functions.sql)"
   ]
  },
  {
   "cell_type": "markdown",
   "metadata": {},
   "source": [
    "## Indices\n",
    "* [Markus Winand: Use the index, Luke](https://use-the-index-luke.com/)"
   ]
  },
  {
   "cell_type": "code",
   "execution_count": null,
   "metadata": {
    "collapsed": true
   },
   "outputs": [],
   "source": []
  }
 ],
 "metadata": {
  "kernelspec": {
   "display_name": "Python 3",
   "language": "python",
   "name": "python3"
  },
  "language_info": {
   "codemirror_mode": {
    "name": "ipython",
    "version": 3
   },
   "file_extension": ".py",
   "mimetype": "text/x-python",
   "name": "python",
   "nbconvert_exporter": "python",
   "pygments_lexer": "ipython3",
   "version": "3.6.2"
  }
 },
 "nbformat": 4,
 "nbformat_minor": 2
}
